{
 "cells": [
  {
   "cell_type": "code",
   "execution_count": 1,
   "id": "a3372070",
   "metadata": {},
   "outputs": [
    {
     "name": "stdout",
     "output_type": "stream",
     "text": [
      "/home/sh/Desktop/fast_api-Nosql\n"
     ]
    }
   ],
   "source": [
    "cd /home/sh/Desktop/fast_api-Nosql/"
   ]
  },
  {
   "cell_type": "code",
   "execution_count": null,
   "id": "66d76cc4",
   "metadata": {},
   "outputs": [],
   "source": []
  },
  {
   "cell_type": "code",
   "execution_count": 2,
   "id": "f719d8e6",
   "metadata": {},
   "outputs": [],
   "source": [
    "from app import models,crud"
   ]
  },
  {
   "cell_type": "code",
   "execution_count": 3,
   "id": "1748570c",
   "metadata": {},
   "outputs": [
    {
     "name": "stdout",
     "output_type": "stream",
     "text": [
      "{'asin': 'dsjhfskjdhf1', 'title': 'Mark 1'}\n"
     ]
    }
   ],
   "source": [
    "data = models.data\n",
    "print(data)"
   ]
  },
  {
   "cell_type": "code",
   "execution_count": 8,
   "id": "6002167e",
   "metadata": {},
   "outputs": [],
   "source": [
    "for i in range(10):\n",
    "    crud.create_unique_entry(data)"
   ]
  },
  {
   "cell_type": "code",
   "execution_count": 9,
   "id": "c333b3aa",
   "metadata": {},
   "outputs": [
    {
     "data": {
      "text/plain": [
       "[UniqueProduct(uuid=UUID('2dc9a20b-365e-11ec-ad1f-c135dd4d9ee5'), asin='dsjhfskjdhf1', title='Mark 1'),\n",
       " UniqueProduct(uuid=UUID('3d4d919c-365a-11ec-ad1f-c135dd4d9ee5'), asin='dsjhfskjdhf1', title='Mark 1'),\n",
       " UniqueProduct(uuid=UUID('2dc9a205-365e-11ec-ad1f-c135dd4d9ee5'), asin='dsjhfskjdhf1', title='Mark 1'),\n",
       " UniqueProduct(uuid=UUID('2dc9a208-365e-11ec-ad1f-c135dd4d9ee5'), asin='dsjhfskjdhf1', title='Mark 1'),\n",
       " UniqueProduct(uuid=UUID('3c3f4b60-365a-11ec-ad1f-c135dd4d9ee5'), asin='dsjhfskjdhf1', title='Mark 1'),\n",
       " UniqueProduct(uuid=UUID('2dc9a204-365e-11ec-ad1f-c135dd4d9ee5'), asin='dsjhfskjdhf1', title='Mark 1'),\n",
       " UniqueProduct(uuid=UUID('9b1e41e8-3657-11ec-ad1f-c135dd4d9ee5'), asin='dsjhfskjdhf1', title='Mark 1'),\n",
       " UniqueProduct(uuid=UUID('2dc9a203-365e-11ec-ad1f-c135dd4d9ee5'), asin='dsjhfskjdhf1', title='Mark 1'),\n",
       " UniqueProduct(uuid=UUID('f0b99d8a-3659-11ec-ad1f-c135dd4d9ee5'), asin='dsjhfskjdhf1', title='Mark 1'),\n",
       " UniqueProduct(uuid=UUID('2dc9a207-365e-11ec-ad1f-c135dd4d9ee5'), asin='dsjhfskjdhf1', title='Mark 1'),\n",
       " UniqueProduct(uuid=UUID('2dc9a209-365e-11ec-ad1f-c135dd4d9ee5'), asin='dsjhfskjdhf1', title='Mark 1'),\n",
       " UniqueProduct(uuid=UUID('2dc9a202-365e-11ec-ad1f-c135dd4d9ee5'), asin='dsjhfskjdhf1', title='Mark 1'),\n",
       " UniqueProduct(uuid=UUID('efdc23c8-365a-11ec-ad1f-c135dd4d9ee5'), asin='dsjhfskjdhf1', title='Mark 1'),\n",
       " UniqueProduct(uuid=UUID('3e6ec618-365a-11ec-ad1f-c135dd4d9ee5'), asin='dsjhfskjdhf1', title='Mark 1'),\n",
       " UniqueProduct(uuid=UUID('2dc9a20a-365e-11ec-ad1f-c135dd4d9ee5'), asin='dsjhfskjdhf1', title='Mark 1'),\n",
       " UniqueProduct(uuid=UUID('2dc9a206-365e-11ec-ad1f-c135dd4d9ee5'), asin='dsjhfskjdhf1', title='Mark 1')]"
      ]
     },
     "execution_count": 9,
     "metadata": {},
     "output_type": "execute_result"
    }
   ],
   "source": [
    "list(models.UniqueProduct.objects().all())"
   ]
  },
  {
   "cell_type": "code",
   "execution_count": 6,
   "id": "74a33961",
   "metadata": {},
   "outputs": [
    {
     "name": "stdout",
     "output_type": "stream",
     "text": [
      "dsjhfskjdhf1\n",
      "dsjhfskjdhf\n"
     ]
    }
   ],
   "source": [
    "for obj in models.Products.objects().all():\n",
    "    print(obj.asin)"
   ]
  }
 ],
 "metadata": {
  "kernelspec": {
   "display_name": "Python 3 (ipykernel)",
   "language": "python",
   "name": "python3"
  },
  "language_info": {
   "codemirror_mode": {
    "name": "ipython",
    "version": 3
   },
   "file_extension": ".py",
   "mimetype": "text/x-python",
   "name": "python",
   "nbconvert_exporter": "python",
   "pygments_lexer": "ipython3",
   "version": "3.8.10"
  }
 },
 "nbformat": 4,
 "nbformat_minor": 5
}
