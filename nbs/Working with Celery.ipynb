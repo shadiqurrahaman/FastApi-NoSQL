{
 "cells": [
  {
   "cell_type": "code",
   "execution_count": 1,
   "id": "9b77277a",
   "metadata": {},
   "outputs": [
    {
     "data": {
      "text/plain": [
       "'/home/sh/Desktop/fast_api-Nosql/nbs'"
      ]
     },
     "execution_count": 1,
     "metadata": {},
     "output_type": "execute_result"
    }
   ],
   "source": [
    "pwd"
   ]
  },
  {
   "cell_type": "code",
   "execution_count": null,
   "id": "cb4decc3",
   "metadata": {},
   "outputs": [],
   "source": []
  },
  {
   "cell_type": "code",
   "execution_count": 2,
   "id": "b1b94100",
   "metadata": {},
   "outputs": [
    {
     "name": "stdout",
     "output_type": "stream",
     "text": [
      "/home/sh/Desktop/fast_api-Nosql\n"
     ]
    }
   ],
   "source": [
    "cd .."
   ]
  },
  {
   "cell_type": "code",
   "execution_count": 4,
   "id": "db3fadf6",
   "metadata": {},
   "outputs": [],
   "source": [
    "from app import worker"
   ]
  },
  {
   "cell_type": "code",
   "execution_count": 5,
   "id": "905b3561",
   "metadata": {},
   "outputs": [
    {
     "data": {
      "text/plain": [
       "<AsyncResult: b8712968-0e36-42b0-b435-a58ea0a726ec>"
      ]
     },
     "execution_count": 5,
     "metadata": {},
     "output_type": "execute_result"
    }
   ],
   "source": [
    "worker.view_all_product.delay()\n"
   ]
  },
  {
   "cell_type": "code",
   "execution_count": 13,
   "id": "99847d80",
   "metadata": {},
   "outputs": [
    {
     "name": "stdout",
     "output_type": "stream",
     "text": [
      "who are you shaon\n"
     ]
    }
   ],
   "source": [
    "worker.random_task(\"shaon\")"
   ]
  },
  {
   "cell_type": "code",
   "execution_count": 14,
   "id": "6a79e9b5",
   "metadata": {},
   "outputs": [
    {
     "data": {
      "text/plain": [
       "<AsyncResult: afd3c47d-ce26-4fa3-8eea-327d55dad294>"
      ]
     },
     "execution_count": 14,
     "metadata": {},
     "output_type": "execute_result"
    }
   ],
   "source": [
    "worker.random_task.delay(\"shaon\")"
   ]
  },
  {
   "cell_type": "code",
   "execution_count": 15,
   "id": "417ed21f",
   "metadata": {},
   "outputs": [],
   "source": [
    "for i in range(10):\n",
    "    worker.random_task.apply_async(args=(f\"shaon-{i}\" , ),countdown=5)"
   ]
  },
  {
   "cell_type": "code",
   "execution_count": null,
   "id": "d34a8b65",
   "metadata": {},
   "outputs": [],
   "source": []
  }
 ],
 "metadata": {
  "kernelspec": {
   "display_name": "Python 3 (ipykernel)",
   "language": "python",
   "name": "python3"
  },
  "language_info": {
   "codemirror_mode": {
    "name": "ipython",
    "version": 3
   },
   "file_extension": ".py",
   "mimetype": "text/x-python",
   "name": "python",
   "nbconvert_exporter": "python",
   "pygments_lexer": "ipython3",
   "version": "3.8.10"
  }
 },
 "nbformat": 4,
 "nbformat_minor": 5
}
