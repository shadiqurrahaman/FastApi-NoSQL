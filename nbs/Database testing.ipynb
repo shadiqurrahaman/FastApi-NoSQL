{
 "cells": [
  {
   "cell_type": "code",
   "execution_count": 1,
   "id": "dfb0e014",
   "metadata": {},
   "outputs": [
    {
     "data": {
      "text/plain": [
       "'/home/sh/Desktop/fast_api-Nosql/nbs'"
      ]
     },
     "execution_count": 1,
     "metadata": {},
     "output_type": "execute_result"
    }
   ],
   "source": [
    "pwd"
   ]
  },
  {
   "cell_type": "code",
   "execution_count": 2,
   "id": "390ceb39",
   "metadata": {},
   "outputs": [
    {
     "name": "stdout",
     "output_type": "stream",
     "text": [
      "/home/sh/Desktop/fast_api-Nosql\n"
     ]
    }
   ],
   "source": [
    "cd /home/sh/Desktop/fast_api-Nosql\n"
   ]
  },
  {
   "cell_type": "code",
   "execution_count": 3,
   "id": "cc9f00de",
   "metadata": {},
   "outputs": [],
   "source": [
    "from app import models,crud,schema,config,db\n",
    "\n",
    "\n"
   ]
  },
  {
   "cell_type": "code",
   "execution_count": 4,
   "id": "0e662bf8",
   "metadata": {},
   "outputs": [
    {
     "data": {
      "text/plain": [
       "<cassandra.cluster.Session at 0x7f8adb5f3040>"
      ]
     },
     "execution_count": 4,
     "metadata": {},
     "output_type": "execute_result"
    }
   ],
   "source": [
    "\n",
    "db.get_session()"
   ]
  },
  {
   "cell_type": "code",
   "execution_count": 5,
   "id": "f30a847b",
   "metadata": {},
   "outputs": [
    {
     "name": "stdout",
     "output_type": "stream",
     "text": [
      "{'name': 'name1', 'title': 'second change'}\n"
     ]
    }
   ],
   "source": [
    "data = {\n",
    "    'name':\"name1\",\n",
    "    'title': \"second change\"\n",
    "}\n",
    "print(data)"
   ]
  },
  {
   "cell_type": "code",
   "execution_count": 6,
   "id": "b0a66133",
   "metadata": {},
   "outputs": [
    {
     "data": {
      "text/plain": [
       "Products(name='name1', title='Mark 1', age='20')"
      ]
     },
     "execution_count": 6,
     "metadata": {},
     "output_type": "execute_result"
    }
   ],
   "source": [
    "crud.create_entry(models.data)\n"
   ]
  },
  {
   "cell_type": "code",
   "execution_count": 7,
   "id": "252f5594",
   "metadata": {},
   "outputs": [],
   "source": [
    "product = models.Products\n",
    "list(product.objects().all())\n",
    "uniqueProduct = models.UniqueProduct\n"
   ]
  },
  {
   "cell_type": "code",
   "execution_count": 8,
   "id": "0f366439",
   "metadata": {},
   "outputs": [],
   "source": [
    "udata = list(uniqueProduct.objects().all())\n"
   ]
  },
  {
   "cell_type": "code",
   "execution_count": 9,
   "id": "818ac8e9",
   "metadata": {},
   "outputs": [
    {
     "data": {
      "text/plain": [
       "[UniqueProductschema(name='name1', title='second change', created=datetime.datetime(2021, 10, 30, 10, 19, 48, 249823)),\n",
       " UniqueProductschema(name='name1', title='second change', created=datetime.datetime(2021, 10, 30, 9, 3, 28, 825089)),\n",
       " UniqueProductschema(name=None, title='Mark 1', created=datetime.datetime(2021, 10, 26, 13, 11, 6, 465741)),\n",
       " UniqueProductschema(name=None, title='Mark 1', created=datetime.datetime(2021, 10, 26, 12, 42, 54, 509302)),\n",
       " UniqueProductschema(name=None, title='Mark 1', created=datetime.datetime(2021, 10, 26, 13, 11, 6, 465741)),\n",
       " UniqueProductschema(name='name1', title='second change', created=datetime.datetime(2021, 10, 27, 9, 38, 20, 502978)),\n",
       " UniqueProductschema(name='name1', title='second change', created=datetime.datetime(2021, 10, 30, 10, 18, 13, 241493)),\n",
       " UniqueProductschema(name=None, title='Mark 1', created=datetime.datetime(2021, 10, 26, 13, 11, 6, 465741)),\n",
       " UniqueProductschema(name='name1', title='second change', created=datetime.datetime(2021, 10, 26, 20, 9, 46, 321284)),\n",
       " UniqueProductschema(name=None, title='Mark 1', created=datetime.datetime(2021, 10, 26, 12, 42, 52, 738032)),\n",
       " UniqueProductschema(name='name1', title='second change', created=datetime.datetime(2021, 10, 26, 20, 9, 37, 493278)),\n",
       " UniqueProductschema(name='name1', title='second change', created=datetime.datetime(2021, 10, 27, 9, 37, 12, 105980)),\n",
       " UniqueProductschema(name=None, title='Mark 1', created=datetime.datetime(2021, 10, 26, 13, 11, 6, 465741)),\n",
       " UniqueProductschema(name=None, title='Mark 1', created=datetime.datetime(2021, 10, 26, 12, 24, 3, 414884)),\n",
       " UniqueProductschema(name='name1', title='second change', created=datetime.datetime(2021, 10, 26, 20, 9, 46, 321284)),\n",
       " UniqueProductschema(name='name1', title='second change', created=datetime.datetime(2021, 10, 30, 9, 2, 46, 149133)),\n",
       " UniqueProductschema(name='name1', title='second change', created=datetime.datetime(2021, 10, 27, 9, 50, 55, 564162)),\n",
       " UniqueProductschema(name=None, title='Mark 1', created=datetime.datetime(2021, 10, 26, 13, 11, 6, 465741)),\n",
       " UniqueProductschema(name='name1', title='second change', created=datetime.datetime(2021, 10, 27, 9, 54, 57, 419292)),\n",
       " UniqueProductschema(name=None, title='Mark 1', created=datetime.datetime(2021, 10, 26, 12, 40, 46, 32833)),\n",
       " UniqueProductschema(name='name1', title='second change', created=datetime.datetime(2021, 10, 26, 20, 9, 46, 321284)),\n",
       " UniqueProductschema(name='name1', title='second change', created=datetime.datetime(2021, 10, 26, 20, 11, 51, 868006)),\n",
       " UniqueProductschema(name='name1', title='second change', created=datetime.datetime(2021, 10, 26, 20, 9, 50, 16955)),\n",
       " UniqueProductschema(name='dsjhfskjdhf1', title='Mark 1', created=datetime.datetime(2021, 10, 26, 19, 39, 9, 150275)),\n",
       " UniqueProductschema(name='name1', title='second change', created=datetime.datetime(2021, 10, 27, 9, 38, 51, 911477)),\n",
       " UniqueProductschema(name=None, title='Mark 1', created=datetime.datetime(2021, 10, 26, 13, 11, 6, 465741)),\n",
       " UniqueProductschema(name='name1', title='second change', created=datetime.datetime(2021, 10, 26, 20, 18, 16, 458549)),\n",
       " UniqueProductschema(name=None, title='Mark 1', created=datetime.datetime(2021, 10, 26, 13, 11, 6, 465741)),\n",
       " UniqueProductschema(name='name1', title='second change', created=datetime.datetime(2021, 10, 27, 10, 54, 30, 791161)),\n",
       " UniqueProductschema(name=None, title='Mark 1', created=datetime.datetime(2021, 10, 26, 13, 11, 6, 465741)),\n",
       " UniqueProductschema(name='name1', title='second change', created=datetime.datetime(2021, 10, 26, 20, 11, 53, 836251)),\n",
       " UniqueProductschema(name=None, title='Mark 1', created=datetime.datetime(2021, 10, 26, 12, 47, 54, 78100)),\n",
       " UniqueProductschema(name=None, title='Mark 1', created=datetime.datetime(2021, 10, 26, 12, 42, 56, 404636)),\n",
       " UniqueProductschema(name=None, title='Mark 1', created=datetime.datetime(2021, 10, 26, 13, 11, 6, 465741)),\n",
       " UniqueProductschema(name='name1', title='second change', created=datetime.datetime(2021, 10, 26, 20, 14, 2, 10145)),\n",
       " UniqueProductschema(name=None, title='Mark 1', created=datetime.datetime(2021, 10, 26, 13, 11, 6, 465741)),\n",
       " UniqueProductschema(name='name1', title='second change', created=datetime.datetime(2021, 10, 26, 20, 9, 48, 613037)),\n",
       " UniqueProductschema(name='name1', title='second change', created=datetime.datetime(2021, 10, 26, 20, 9, 30, 774888))]"
      ]
     },
     "execution_count": 9,
     "metadata": {},
     "output_type": "execute_result"
    }
   ],
   "source": [
    "udata\n",
    "filteredData = [schema.UniqueProductschema(**x) for x in udata]\n",
    "filteredData"
   ]
  },
  {
   "cell_type": "code",
   "execution_count": 10,
   "id": "b8f5d0c7",
   "metadata": {},
   "outputs": [
    {
     "data": {
      "text/plain": [
       "UniqueProduct(uuid=UUID('19a81d2a-396b-11ec-9a58-e1447f1d323a'), name='name1', title='second change')"
      ]
     },
     "execution_count": 10,
     "metadata": {},
     "output_type": "execute_result"
    }
   ],
   "source": [
    "crud.create_unique_entry(data)\n",
    "\n"
   ]
  },
  {
   "cell_type": "code",
   "execution_count": 11,
   "id": "55ad65d6",
   "metadata": {},
   "outputs": [
    {
     "ename": "ValidationError",
     "evalue": "Incorrect columns passed: {'uuid'}",
     "output_type": "error",
     "traceback": [
      "\u001b[0;31m---------------------------------------------------------------------------\u001b[0m",
      "\u001b[0;31mValidationError\u001b[0m                           Traceback (most recent call last)",
      "\u001b[0;32m/tmp/ipykernel_10686/1573917171.py\u001b[0m in \u001b[0;36m<module>\u001b[0;34m\u001b[0m\n\u001b[1;32m      1\u001b[0m \u001b[0;31m# data\u001b[0m\u001b[0;34m\u001b[0m\u001b[0;34m\u001b[0m\u001b[0;34m\u001b[0m\u001b[0m\n\u001b[0;32m----> 2\u001b[0;31m \u001b[0mcrud\u001b[0m\u001b[0;34m.\u001b[0m\u001b[0madd_unique_event\u001b[0m\u001b[0;34m(\u001b[0m\u001b[0mdata\u001b[0m\u001b[0;34m)\u001b[0m\u001b[0;34m\u001b[0m\u001b[0;34m\u001b[0m\u001b[0m\n\u001b[0m",
      "\u001b[0;32m~/Desktop/fast_api-Nosql/app/crud.py\u001b[0m in \u001b[0;36madd_unique_event\u001b[0;34m(data)\u001b[0m\n\u001b[1;32m     19\u001b[0m \u001b[0;34m\u001b[0m\u001b[0m\n\u001b[1;32m     20\u001b[0m \u001b[0;32mdef\u001b[0m \u001b[0madd_unique_event\u001b[0m\u001b[0;34m(\u001b[0m\u001b[0mdata\u001b[0m\u001b[0;34m:\u001b[0m\u001b[0mdict\u001b[0m\u001b[0;34m)\u001b[0m\u001b[0;34m:\u001b[0m\u001b[0;34m\u001b[0m\u001b[0;34m\u001b[0m\u001b[0m\n\u001b[0;32m---> 21\u001b[0;31m     \u001b[0mproduct\u001b[0m \u001b[0;34m=\u001b[0m \u001b[0mcreate_entry\u001b[0m\u001b[0;34m(\u001b[0m\u001b[0mdata\u001b[0m\u001b[0;34m)\u001b[0m\u001b[0;34m\u001b[0m\u001b[0;34m\u001b[0m\u001b[0m\n\u001b[0m\u001b[1;32m     22\u001b[0m     \u001b[0munique_product\u001b[0m\u001b[0;34m=\u001b[0m \u001b[0mcreate_unique_entry\u001b[0m\u001b[0;34m(\u001b[0m\u001b[0mdata\u001b[0m\u001b[0;34m)\u001b[0m\u001b[0;34m\u001b[0m\u001b[0;34m\u001b[0m\u001b[0m\n\u001b[1;32m     23\u001b[0m     \u001b[0;32mreturn\u001b[0m \u001b[0mproduct\u001b[0m\u001b[0;34m,\u001b[0m\u001b[0munique_product\u001b[0m\u001b[0;34m\u001b[0m\u001b[0;34m\u001b[0m\u001b[0m\n",
      "\u001b[0;32m~/Desktop/fast_api-Nosql/app/crud.py\u001b[0m in \u001b[0;36mcreate_entry\u001b[0;34m(data)\u001b[0m\n\u001b[1;32m      9\u001b[0m \u001b[0;34m\u001b[0m\u001b[0m\n\u001b[1;32m     10\u001b[0m \u001b[0;32mdef\u001b[0m \u001b[0mcreate_entry\u001b[0m\u001b[0;34m(\u001b[0m\u001b[0mdata\u001b[0m\u001b[0;34m:\u001b[0m\u001b[0mdict\u001b[0m\u001b[0;34m)\u001b[0m\u001b[0;34m:\u001b[0m\u001b[0;34m\u001b[0m\u001b[0;34m\u001b[0m\u001b[0m\n\u001b[0;32m---> 11\u001b[0;31m     \u001b[0;32mreturn\u001b[0m \u001b[0mProducts\u001b[0m\u001b[0;34m.\u001b[0m\u001b[0mcreate\u001b[0m\u001b[0;34m(\u001b[0m\u001b[0;34m**\u001b[0m\u001b[0mdata\u001b[0m\u001b[0;34m)\u001b[0m\u001b[0;34m\u001b[0m\u001b[0;34m\u001b[0m\u001b[0m\n\u001b[0m\u001b[1;32m     12\u001b[0m \u001b[0;34m\u001b[0m\u001b[0m\n\u001b[1;32m     13\u001b[0m \u001b[0;32mdef\u001b[0m \u001b[0mget_all_product\u001b[0m\u001b[0;34m(\u001b[0m\u001b[0;34m)\u001b[0m\u001b[0;34m:\u001b[0m\u001b[0;34m\u001b[0m\u001b[0;34m\u001b[0m\u001b[0m\n",
      "\u001b[0;32m~/Desktop/fast_api-Nosql/lib/python3.8/site-packages/cassandra/cqlengine/models.py\u001b[0m in \u001b[0;36mcreate\u001b[0;34m(cls, **kwargs)\u001b[0m\n\u001b[1;32m    670\u001b[0m         \u001b[0mextra_columns\u001b[0m \u001b[0;34m=\u001b[0m \u001b[0mset\u001b[0m\u001b[0;34m(\u001b[0m\u001b[0mkwargs\u001b[0m\u001b[0;34m.\u001b[0m\u001b[0mkeys\u001b[0m\u001b[0;34m(\u001b[0m\u001b[0;34m)\u001b[0m\u001b[0;34m)\u001b[0m \u001b[0;34m-\u001b[0m \u001b[0mset\u001b[0m\u001b[0;34m(\u001b[0m\u001b[0mcls\u001b[0m\u001b[0;34m.\u001b[0m\u001b[0m_columns\u001b[0m\u001b[0;34m.\u001b[0m\u001b[0mkeys\u001b[0m\u001b[0;34m(\u001b[0m\u001b[0;34m)\u001b[0m\u001b[0;34m)\u001b[0m\u001b[0;34m\u001b[0m\u001b[0;34m\u001b[0m\u001b[0m\n\u001b[1;32m    671\u001b[0m         \u001b[0;32mif\u001b[0m \u001b[0mextra_columns\u001b[0m\u001b[0;34m:\u001b[0m\u001b[0;34m\u001b[0m\u001b[0;34m\u001b[0m\u001b[0m\n\u001b[0;32m--> 672\u001b[0;31m             \u001b[0;32mraise\u001b[0m \u001b[0mValidationError\u001b[0m\u001b[0;34m(\u001b[0m\u001b[0;34m\"Incorrect columns passed: {0}\"\u001b[0m\u001b[0;34m.\u001b[0m\u001b[0mformat\u001b[0m\u001b[0;34m(\u001b[0m\u001b[0mextra_columns\u001b[0m\u001b[0;34m)\u001b[0m\u001b[0;34m)\u001b[0m\u001b[0;34m\u001b[0m\u001b[0;34m\u001b[0m\u001b[0m\n\u001b[0m\u001b[1;32m    673\u001b[0m         \u001b[0;32mreturn\u001b[0m \u001b[0mcls\u001b[0m\u001b[0;34m.\u001b[0m\u001b[0mobjects\u001b[0m\u001b[0;34m.\u001b[0m\u001b[0mcreate\u001b[0m\u001b[0;34m(\u001b[0m\u001b[0;34m**\u001b[0m\u001b[0mkwargs\u001b[0m\u001b[0;34m)\u001b[0m\u001b[0;34m\u001b[0m\u001b[0;34m\u001b[0m\u001b[0m\n\u001b[1;32m    674\u001b[0m \u001b[0;34m\u001b[0m\u001b[0m\n",
      "\u001b[0;31mValidationError\u001b[0m: Incorrect columns passed: {'uuid'}"
     ]
    }
   ],
   "source": [
    "\n",
    "# data\n",
    "crud.add_unique_event(data)\n"
   ]
  },
  {
   "cell_type": "code",
   "execution_count": null,
   "id": "5aaf47a3",
   "metadata": {},
   "outputs": [],
   "source": [
    "\n",
    "schema.ProductSchema(**data)\n"
   ]
  }
 ],
 "metadata": {
  "kernelspec": {
   "display_name": "Python 3 (ipykernel)",
   "language": "python",
   "name": "python3"
  },
  "language_info": {
   "codemirror_mode": {
    "name": "ipython",
    "version": 3
   },
   "file_extension": ".py",
   "mimetype": "text/x-python",
   "name": "python",
   "nbconvert_exporter": "python",
   "pygments_lexer": "ipython3",
   "version": "3.8.10"
  }
 },
 "nbformat": 4,
 "nbformat_minor": 5
}
