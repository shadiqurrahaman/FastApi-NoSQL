{
 "cells": [
  {
   "cell_type": "code",
   "execution_count": 1,
   "id": "dfb0e014",
   "metadata": {},
   "outputs": [
    {
     "data": {
      "text/plain": [
       "'/home/sh/Desktop/fast_api-Nosql/nbs'"
      ]
     },
     "execution_count": 1,
     "metadata": {},
     "output_type": "execute_result"
    }
   ],
   "source": [
    "pwd"
   ]
  },
  {
   "cell_type": "code",
   "execution_count": 2,
   "id": "390ceb39",
   "metadata": {},
   "outputs": [
    {
     "name": "stdout",
     "output_type": "stream",
     "text": [
      "/home/sh/Desktop/fast_api-Nosql\n"
     ]
    }
   ],
   "source": [
    "cd /home/sh/Desktop/fast_api-Nosql\n"
   ]
  },
  {
   "cell_type": "code",
   "execution_count": 3,
   "id": "cc9f00de",
   "metadata": {},
   "outputs": [],
   "source": [
    "from app import crud\n"
   ]
  },
  {
   "cell_type": "code",
   "execution_count": 4,
   "id": "0e662bf8",
   "metadata": {},
   "outputs": [],
   "source": [
    "from app import models,schema\n"
   ]
  },
  {
   "cell_type": "code",
   "execution_count": 5,
   "id": "f30a847b",
   "metadata": {},
   "outputs": [
    {
     "name": "stdout",
     "output_type": "stream",
     "text": [
      "{'name': 'name1', 'title': 'second change'}\n"
     ]
    }
   ],
   "source": [
    "data = {\n",
    "    'name':\"name1\",\n",
    "    'title': \"second change\"\n",
    "}\n",
    "print(data)"
   ]
  },
  {
   "cell_type": "code",
   "execution_count": 6,
   "id": "b0a66133",
   "metadata": {},
   "outputs": [
    {
     "data": {
      "text/plain": [
       "Products(name='name1', title='second change', age=None)"
      ]
     },
     "execution_count": 6,
     "metadata": {},
     "output_type": "execute_result"
    }
   ],
   "source": [
    "crud.create_entry(data)\n"
   ]
  },
  {
   "cell_type": "code",
   "execution_count": 7,
   "id": "252f5594",
   "metadata": {},
   "outputs": [
    {
     "data": {
      "text/plain": [
       "[Products(name='name1', title='second change', age='20'),\n",
       " Products(name='dsjhfskjdhf1', title='Mark 1', age=None),\n",
       " Products(name='dsjhfskjdhf', title='Mark 1', age=None)]"
      ]
     },
     "execution_count": 7,
     "metadata": {},
     "output_type": "execute_result"
    }
   ],
   "source": [
    "product = models.Products\n",
    "list(product.objects().all())\n",
    "\n"
   ]
  },
  {
   "cell_type": "code",
   "execution_count": 8,
   "id": "b8f5d0c7",
   "metadata": {},
   "outputs": [
    {
     "data": {
      "text/plain": [
       "UniqueProduct(uuid=UUID('f14d6918-370b-11ec-af70-0f54027a8329'), name='name1', title='second change')"
      ]
     },
     "execution_count": 8,
     "metadata": {},
     "output_type": "execute_result"
    }
   ],
   "source": [
    "crud.create_unique_entry(data)\n",
    "\n"
   ]
  },
  {
   "cell_type": "code",
   "execution_count": 9,
   "id": "55ad65d6",
   "metadata": {},
   "outputs": [
    {
     "data": {
      "text/plain": [
       "{'name': 'name1',\n",
       " 'title': 'second change',\n",
       " 'uuid': UUID('f14d6918-370b-11ec-af70-0f54027a8329')}"
      ]
     },
     "execution_count": 9,
     "metadata": {},
     "output_type": "execute_result"
    }
   ],
   "source": [
    "\n",
    "data\n",
    "# crud.add_unique_event(data)\n"
   ]
  },
  {
   "cell_type": "code",
   "execution_count": 10,
   "id": "5aaf47a3",
   "metadata": {},
   "outputs": [
    {
     "ename": "ValidationError",
     "evalue": "1 validation error for ProductSchema\nage\n  field required (type=value_error.missing)",
     "output_type": "error",
     "traceback": [
      "\u001b[0;31m---------------------------------------------------------------------------\u001b[0m",
      "\u001b[0;31mValidationError\u001b[0m                           Traceback (most recent call last)",
      "\u001b[0;32m/tmp/ipykernel_10172/782271543.py\u001b[0m in \u001b[0;36m<module>\u001b[0;34m\u001b[0m\n\u001b[0;32m----> 1\u001b[0;31m \u001b[0mschema\u001b[0m\u001b[0;34m.\u001b[0m\u001b[0mProductSchema\u001b[0m\u001b[0;34m(\u001b[0m\u001b[0;34m**\u001b[0m\u001b[0mdata\u001b[0m\u001b[0;34m)\u001b[0m\u001b[0;34m\u001b[0m\u001b[0;34m\u001b[0m\u001b[0m\n\u001b[0m",
      "\u001b[0;32m~/Desktop/fast_api-Nosql/lib/python3.8/site-packages/pydantic/main.cpython-38-x86_64-linux-gnu.so\u001b[0m in \u001b[0;36mpydantic.main.BaseModel.__init__\u001b[0;34m()\u001b[0m\n",
      "\u001b[0;31mValidationError\u001b[0m: 1 validation error for ProductSchema\nage\n  field required (type=value_error.missing)"
     ]
    }
   ],
   "source": [
    "\n",
    "schema.ProductSchema(**data)\n"
   ]
  }
 ],
 "metadata": {
  "kernelspec": {
   "display_name": "Python 3 (ipykernel)",
   "language": "python",
   "name": "python3"
  },
  "language_info": {
   "codemirror_mode": {
    "name": "ipython",
    "version": 3
   },
   "file_extension": ".py",
   "mimetype": "text/x-python",
   "name": "python",
   "nbconvert_exporter": "python",
   "pygments_lexer": "ipython3",
   "version": "3.8.10"
  }
 },
 "nbformat": 4,
 "nbformat_minor": 5
}
