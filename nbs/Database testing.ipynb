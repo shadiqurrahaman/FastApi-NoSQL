{
 "cells": [
  {
   "cell_type": "code",
   "execution_count": 4,
   "id": "dfb0e014",
   "metadata": {},
   "outputs": [
    {
     "data": {
      "text/plain": [
       "'/home/sh/Desktop/fast_api-Nosql'"
      ]
     },
     "execution_count": 4,
     "metadata": {},
     "output_type": "execute_result"
    }
   ],
   "source": [
    "pwd"
   ]
  },
  {
   "cell_type": "code",
   "execution_count": 5,
   "id": "390ceb39",
   "metadata": {},
   "outputs": [
    {
     "name": "stdout",
     "output_type": "stream",
     "text": [
      "/home/sh/Desktop/fast_api-Nosql\n"
     ]
    }
   ],
   "source": [
    "cd /home/sh/Desktop/fast_api-Nosql\n"
   ]
  },
  {
   "cell_type": "code",
   "execution_count": 14,
   "id": "cc9f00de",
   "metadata": {},
   "outputs": [],
   "source": [
    "from app import models,crud\n",
    "\n",
    "\n"
   ]
  },
  {
   "cell_type": "code",
   "execution_count": 15,
   "id": "0e662bf8",
   "metadata": {},
   "outputs": [],
   "source": [
    "from app import schema\n"
   ]
  },
  {
   "cell_type": "code",
   "execution_count": 16,
   "id": "f30a847b",
   "metadata": {},
   "outputs": [
    {
     "name": "stdout",
     "output_type": "stream",
     "text": [
      "{'name': 'name1', 'title': 'second change'}\n"
     ]
    }
   ],
   "source": [
    "data = {\n",
    "    'name':\"name1\",\n",
    "    'title': \"second change\"\n",
    "}\n",
    "print(data)"
   ]
  },
  {
   "cell_type": "code",
   "execution_count": 17,
   "id": "b0a66133",
   "metadata": {},
   "outputs": [
    {
     "data": {
      "text/plain": [
       "Products(name='name1', title='second change', age=None)"
      ]
     },
     "execution_count": 17,
     "metadata": {},
     "output_type": "execute_result"
    }
   ],
   "source": [
    "crud.create_entry(data)\n"
   ]
  },
  {
   "cell_type": "code",
   "execution_count": 18,
   "id": "252f5594",
   "metadata": {},
   "outputs": [
    {
     "data": {
      "text/plain": [
       "[Products(name='name1', title='second change', age='20'),\n",
       " Products(name='dsjhfskjdhf1', title='Mark 1', age=None),\n",
       " Products(name='dsjhfskjdhf', title='Mark 1', age=None)]"
      ]
     },
     "execution_count": 18,
     "metadata": {},
     "output_type": "execute_result"
    }
   ],
   "source": [
    "product = models.Products\n",
    "list(product.objects().all())\n",
    "\n"
   ]
  },
  {
   "cell_type": "code",
   "execution_count": 19,
   "id": "b8f5d0c7",
   "metadata": {},
   "outputs": [
    {
     "data": {
      "text/plain": [
       "UniqueProduct(uuid=UUID('4332afba-3714-11ec-af70-0f54027a8329'), name='name1', title='second change')"
      ]
     },
     "execution_count": 19,
     "metadata": {},
     "output_type": "execute_result"
    }
   ],
   "source": [
    "crud.create_unique_entry(data)\n",
    "\n"
   ]
  },
  {
   "cell_type": "code",
   "execution_count": 20,
   "id": "55ad65d6",
   "metadata": {},
   "outputs": [
    {
     "data": {
      "text/plain": [
       "{'name': 'name1',\n",
       " 'title': 'second change',\n",
       " 'uuid': UUID('4332afba-3714-11ec-af70-0f54027a8329')}"
      ]
     },
     "execution_count": 20,
     "metadata": {},
     "output_type": "execute_result"
    }
   ],
   "source": [
    "\n",
    "data\n",
    "# crud.add_unique_event(data)\n"
   ]
  },
  {
   "cell_type": "code",
   "execution_count": null,
   "id": "5aaf47a3",
   "metadata": {},
   "outputs": [],
   "source": [
    "\n",
    "schema.ProductSchema(**data)\n"
   ]
  }
 ],
 "metadata": {
  "kernelspec": {
   "display_name": "Python 3 (ipykernel)",
   "language": "python",
   "name": "python3"
  },
  "language_info": {
   "codemirror_mode": {
    "name": "ipython",
    "version": 3
   },
   "file_extension": ".py",
   "mimetype": "text/x-python",
   "name": "python",
   "nbconvert_exporter": "python",
   "pygments_lexer": "ipython3",
   "version": "3.8.10"
  }
 },
 "nbformat": 4,
 "nbformat_minor": 5
}
