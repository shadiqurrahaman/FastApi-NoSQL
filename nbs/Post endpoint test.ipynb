{
 "cells": [
  {
   "cell_type": "code",
   "execution_count": 1,
   "id": "af52d842",
   "metadata": {},
   "outputs": [],
   "source": [
    "import requests"
   ]
  },
  {
   "cell_type": "code",
   "execution_count": 15,
   "id": "51b3f7e7",
   "metadata": {},
   "outputs": [
    {
     "name": "stdout",
     "output_type": "stream",
     "text": [
      "{'uuid': '6bf1cde2-397c-11ec-9a58-e1447f1d323a', 'name': 'A_unique_prodyct_name', 'title': 'this is a name title'}\n"
     ]
    }
   ],
   "source": [
    "endpoint= \"http://127.0.0.1:8000/insert_unique_product\"\n",
    "name = \"A_unique_prodyct_name\"\n",
    "r= requests.post(endpoint,json={'name':name,'title':\"this is a name title\"})\n",
    "print(r.json())"
   ]
  },
  {
   "cell_type": "code",
   "execution_count": null,
   "id": "d976d4f4",
   "metadata": {},
   "outputs": [],
   "source": []
  }
 ],
 "metadata": {
  "kernelspec": {
   "display_name": "Python 3 (ipykernel)",
   "language": "python",
   "name": "python3"
  },
  "language_info": {
   "codemirror_mode": {
    "name": "ipython",
    "version": 3
   },
   "file_extension": ".py",
   "mimetype": "text/x-python",
   "name": "python",
   "nbconvert_exporter": "python",
   "pygments_lexer": "ipython3",
   "version": "3.8.10"
  }
 },
 "nbformat": 4,
 "nbformat_minor": 5
}
